{
 "cells": [
  {
   "cell_type": "code",
   "execution_count": 15,
   "metadata": {
    "collapsed": false
   },
   "outputs": [],
   "source": [
    "import pandas as pd\n",
    "from time import time\n",
    "from sklearn.feature_extraction.text import TfidfVectorizer\n",
    "from sklearn.cluster import KMeans\n",
    "from sklearn.manifold import MDS\n",
    "from sklearn.metrics.pairwise import cosine_similarity\n",
    "import matplotlib.pylab as plt\n",
    "import matplotlib as mlp\n",
    "import numpy as np\n",
    "%matplotlib inline "
   ]
  },
  {
   "cell_type": "code",
   "execution_count": 3,
   "metadata": {
    "collapsed": true
   },
   "outputs": [],
   "source": [
    "data = pd.read_csv('data/csv/result.csv')"
   ]
  },
  {
   "cell_type": "code",
   "execution_count": 4,
   "metadata": {
    "collapsed": false
   },
   "outputs": [
    {
     "data": {
      "text/plain": [
       "id            606\n",
       "created_at    606\n",
       "user_id       606\n",
       "user_name     606\n",
       "tweet_text    606\n",
       "url           606\n",
       "dtype: int64"
      ]
     },
     "execution_count": 4,
     "metadata": {},
     "output_type": "execute_result"
    }
   ],
   "source": [
    "data.count()"
   ]
  },
  {
   "cell_type": "code",
   "execution_count": 5,
   "metadata": {
    "collapsed": false
   },
   "outputs": [
    {
     "name": "stdout",
     "output_type": "stream",
     "text": [
      "done\tin\t0.139454s\n",
      "n_samples: 606, n_features: 2377\n",
      "\n"
     ]
    }
   ],
   "source": [
    "#Extracting\tfeatures from the\ttraining dataset\tusing a sparse vectorizer\n",
    "t = time()\n",
    "vectorizer = TfidfVectorizer(min_df=1, max_df=.5, max_features=10000, stop_words='english', use_idf=True)\n",
    "X = vectorizer.fit_transform(data[\"tweet_text\"])\n",
    "print \"done\tin\t%fs\" % (time() - t)\n",
    "print \"n_samples: %d, n_features: %d\" % X.shape\n",
    "print"
   ]
  },
  {
   "cell_type": "code",
   "execution_count": 6,
   "metadata": {
    "collapsed": false
   },
   "outputs": [
    {
     "name": "stdout",
     "output_type": "stream",
     "text": [
      "Clustering sparse data with KMeans(copy_x=True, init='k-means++', max_iter=100, n_clusters=7, n_init=1,\n",
      "    n_jobs=1, precompute_distances='auto', random_state=None, tol=0.0001,\n",
      "    verbose=1)\n",
      "Initialization complete\n",
      "Iteration  0, inertia 1099.076\n",
      "Iteration  1, inertia 552.924\n",
      "Iteration  2, inertia 550.776\n",
      "Iteration  3, inertia 548.764\n",
      "Iteration  4, inertia 547.518\n",
      "Iteration  5, inertia 545.091\n",
      "Iteration  6, inertia 543.861\n",
      "Iteration  7, inertia 543.151\n",
      "Iteration  8, inertia 542.757\n",
      "Iteration  9, inertia 541.573\n",
      "Iteration 10, inertia 541.242\n",
      "Iteration 11, inertia 541.214\n",
      "Converged at iteration 11\n",
      "done in 0.056s\n"
     ]
    }
   ],
   "source": [
    "#Kmean clustering\n",
    "km = KMeans(n_clusters=7, init='k-means++', max_iter=100, n_init=1, verbose=1)\n",
    "print \"Clustering sparse data with %s\" % km\n",
    "t = time()\n",
    "km.fit(X)\n",
    "print \"done in %0.3fs\" % (time() - t)"
   ]
  },
  {
   "cell_type": "code",
   "execution_count": 7,
   "metadata": {
    "collapsed": false
   },
   "outputs": [
    {
     "name": "stdout",
     "output_type": "stream",
     "text": [
      "Top terms per cluster:\n",
      "Cluster 0:\n",
      " rt new post blog la scaling dot yfyle2qw2v soundness odersky java developer di akka london della job al http amp \n",
      "Cluster 1:\n",
      " functional data going languages y4vxfcdxbq conquered world big scalafriends rt programming structures purely clojure men dogs infoworld qcon complicated d6y \n",
      "Cluster 2:\n",
      " scalarx paseo pequeño iqhjalzyrg d7jwwq8cxo por scalerablog rt 추가했습니다 fishnet fjkkbpbboq fizcoiu42x fiwy6v9iht fit finch flagellum filosofia filmtekercs film file \n",
      "Cluster 3:\n",
      " functionalprogramming infoworld clojure amp discusses richhickey reduces complexity incidental cognitect p3i rt luciano pavarotti 1967 sings cinemas coming mhjcrrhupi lkfet05d \n",
      "Cluster 4:\n",
      " spark code software v8uhpao9pt cloudcomputing tendencias2016 php7 webcomponents bigdata java osktcz48fr hadoop singleton redis typing trying run developers spa engineer \n",
      "Cluster 5:\n",
      " 1904 butterfly milan premieres madame la italy theatre thisdayinhistory history eoay185yeb puccini madama rt premiered teatro giacomo h47jjirqms onthisday opera \n",
      "Cluster 6:\n",
      " anni pretre milano alla 50 italia cultura cbibqcxg4f italy ht stefanorocca9 uy3yehn1zm racconta saperecondiviso rai storia music dell http il \n"
     ]
    }
   ],
   "source": [
    "print \"Top terms per cluster:\"\n",
    "order_centroids = km.cluster_centers_.argsort()[:, ::-1]\n",
    "terms = vectorizer.get_feature_names()\n",
    "for i in range(7):\n",
    "    print \"Cluster %d:\" % i\n",
    "    text = ' '\n",
    "    for ind in order_centroids[i, :20]:\n",
    "        text = text + '%s' % terms[ind] + ' '\n",
    "    print text"
   ]
  },
  {
   "cell_type": "code",
   "execution_count": 68,
   "metadata": {
    "collapsed": false
   },
   "outputs": [
    {
     "data": {
      "text/plain": [
       "array([[1748, 1359, 1547, ...,  532, 1632,  694],\n",
       "       [ 826,  574,  875, ..., 1569, 1568,    0],\n",
       "       [1806, 1476, 1493, ..., 1581, 1580,    0],\n",
       "       ..., \n",
       "       [1921,  474, 1901, ..., 1556, 1555,    0],\n",
       "       [  32,  387, 1284, ..., 1572, 1571,    0],\n",
       "       [ 230, 1570, 1285, ..., 1576, 1575,    0]])"
      ]
     },
     "execution_count": 68,
     "metadata": {},
     "output_type": "execute_result"
    }
   ],
   "source": [
    "order_centroids"
   ]
  },
  {
   "cell_type": "code",
   "execution_count": 116,
   "metadata": {
    "collapsed": false
   },
   "outputs": [],
   "source": [
    "#Multi-Dimensional Scaling\n",
    "# X = np.array(X)\n",
    "dist = cosine_similarity(X)\n",
    "# print dist\n",
    "mds = MDS(n_components=2, dissimilarity=\"precomputed\", random_state=1)\n",
    "pos = mds.fit_transform(dist)\n",
    "xs, ys = pos[:, 0], pos[:, 1]\n",
    "cluster_colors = {0: '#1b9e77', 1: '#d95f02', 2: '#7570b3', 3: '#e7298a',\n",
    "4: '#66a61e', 5: '#9990b3', 6: '#e8888a'}\n",
    "#convert to label from index cluster if know after use k-means algorithm\n",
    "cluster_names = {   \n",
    "                    0: '0', \n",
    "                    1:'1',\n",
    "                    2:'2',\n",
    "                    3:'3',\n",
    "                    4:'4',\n",
    "                    5:'5',\n",
    "                    6:'6'\n",
    "                }\n",
    "df = pd.DataFrame(dict(x=xs, y=ys, label=km.labels_, txt=data[\"tweet_text\"]))"
   ]
  },
  {
   "cell_type": "code",
   "execution_count": 124,
   "metadata": {
    "collapsed": false
   },
   "outputs": [
    {
     "data": {
      "text/html": [
       "<div>\n",
       "<table border=\"1\" class=\"dataframe\">\n",
       "  <thead>\n",
       "    <tr style=\"text-align: right;\">\n",
       "      <th></th>\n",
       "      <th>label</th>\n",
       "      <th>txt</th>\n",
       "    </tr>\n",
       "  </thead>\n",
       "  <tbody>\n",
       "    <tr>\n",
       "      <th>100</th>\n",
       "      <td>0</td>\n",
       "      <td>Great article explaining what #functionalprogr...</td>\n",
       "    </tr>\n",
       "    <tr>\n",
       "      <th>101</th>\n",
       "      <td>0</td>\n",
       "      <td>Caso #Scala atentado provocado por el estado,q...</td>\n",
       "    </tr>\n",
       "    <tr>\n",
       "      <th>102</th>\n",
       "      <td>0</td>\n",
       "      <td>Calling all #PPGAMECHANGERS Application Engine...</td>\n",
       "    </tr>\n",
       "    <tr>\n",
       "      <th>103</th>\n",
       "      <td>5</td>\n",
       "      <td>...on this day in 1904 Giacomo Puccini's 'Mada...</td>\n",
       "    </tr>\n",
       "    <tr>\n",
       "      <th>104</th>\n",
       "      <td>4</td>\n",
       "      <td>Scala code to access documents in AWS S3 bucke...</td>\n",
       "    </tr>\n",
       "    <tr>\n",
       "      <th>105</th>\n",
       "      <td>0</td>\n",
       "      <td>Top boy @BRyderJones doing his thing onstage l...</td>\n",
       "    </tr>\n",
       "    <tr>\n",
       "      <th>106</th>\n",
       "      <td>0</td>\n",
       "      <td>Filmtekercs: Óda egy operaházhoz – A művészet ...</td>\n",
       "    </tr>\n",
       "    <tr>\n",
       "      <th>107</th>\n",
       "      <td>0</td>\n",
       "      <td>RT @GianniniRoberto: Pearls of italian psych b...</td>\n",
       "    </tr>\n",
       "    <tr>\n",
       "      <th>108</th>\n",
       "      <td>0</td>\n",
       "      <td>SBT Question:\\n\\nhttps://t.co/OuDFH92XaA says ...</td>\n",
       "    </tr>\n",
       "    <tr>\n",
       "      <th>109</th>\n",
       "      <td>0</td>\n",
       "      <td>SBT Question:\\n\\nhttps://t.co/OuDFH92XaA says ...</td>\n",
       "    </tr>\n",
       "  </tbody>\n",
       "</table>\n",
       "</div>"
      ],
      "text/plain": [
       "     label                                                txt\n",
       "100      0  Great article explaining what #functionalprogr...\n",
       "101      0  Caso #Scala atentado provocado por el estado,q...\n",
       "102      0  Calling all #PPGAMECHANGERS Application Engine...\n",
       "103      5  ...on this day in 1904 Giacomo Puccini's 'Mada...\n",
       "104      4  Scala code to access documents in AWS S3 bucke...\n",
       "105      0  Top boy @BRyderJones doing his thing onstage l...\n",
       "106      0  Filmtekercs: Óda egy operaházhoz – A művészet ...\n",
       "107      0  RT @GianniniRoberto: Pearls of italian psych b...\n",
       "108      0  SBT Question:\\n\\nhttps://t.co/OuDFH92XaA says ...\n",
       "109      0  SBT Question:\\n\\nhttps://t.co/OuDFH92XaA says ..."
      ]
     },
     "execution_count": 124,
     "metadata": {},
     "output_type": "execute_result"
    }
   ],
   "source": [
    "index_start = 100\n",
    "index_end = 150\n",
    "df_temp = df[index_start:index_end]\n",
    "print 'list cluster in sample df: ' + str(map(lambda x: x[0],pd.unique(df_temp[['label']].values)))\n",
    "df_temp[['label','txt']][:10]\n"
   ]
  },
  {
   "cell_type": "code",
   "execution_count": 126,
   "metadata": {
    "collapsed": false
   },
   "outputs": [
    {
     "data": {
      "image/png": "[encoded data removed]",
      "text/plain": [
       "<matplotlib.figure.Figure at 0x9723290>"
      ]
     },
     "metadata": {},
     "output_type": "display_data"
    }
   ],
   "source": [
    "import sys \n",
    "reload(sys) \n",
    "sys.setdefaultencoding(\"utf-8\")\n",
    "groups = df.groupby('label')\n",
    "groups_temp = df_temp.groupby('label')\n",
    "fig,ax = plt.subplots(figsize=(17,10))\n",
    "ax.margins(.01)\n",
    "\n",
    "for name, group in groups_temp:\n",
    "    ax.plot(group.x,group.y, marker='o',linestyle='', ms=12, label=cluster_names[name]\n",
    "            ,color=cluster_colors[name], mec='none')\n",
    "    ax.set_aspect('auto')\n",
    "    ax.tick_params(axis = 'x',which='both',bottom='off',top='off',labelbottom='off')\n",
    "    ax.tick_params(axis= 'y' ,which='both',bottom='off',top='off',labelbottom='off')\n",
    "\n",
    "ax.legend(numpoints=1)\n",
    "\n",
    "# for i in range(index_start,index_end):\n",
    "#     ax.text(df_temp.ix[i]['x'],df_temp.ix[i]['y'],df_temp.ix[i]['txt'],size=10)\n",
    "\n",
    "plt.show()"
   ]
  },
  {
   "cell_type": "code",
   "execution_count": null,
   "metadata": {
    "collapsed": false
   },
   "outputs": [],
   "source": []
  },
  {
   "cell_type": "code",
   "execution_count": null,
   "metadata": {
    "collapsed": true
   },
   "outputs": [],
   "source": []
  }
 ],
 "metadata": {
  "kernelspec": {
   "display_name": "Python 2",
   "language": "python",
   "name": "python2"
  }
 },
 "nbformat": 4,
 "nbformat_minor": 0
}
